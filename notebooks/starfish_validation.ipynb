{
 "cells": [
  {
   "cell_type": "code",
   "execution_count": 12,
   "metadata": {},
   "outputs": [],
   "source": [
    "from starfish import Experiment\n",
    "\n",
    "from pathlib import Path, PosixPath"
   ]
  },
  {
   "cell_type": "code",
   "execution_count": 13,
   "metadata": {},
   "outputs": [],
   "source": [
    "SOURCE:  PosixPath     =   Path(('/mnt/ibm_lg/jai.hebel/starfish-data/' \n",
    "                                '202205191322_MsKidney-wtK3-VZG116b-VT-061922_VMSC02401'))"
   ]
  },
  {
   "cell_type": "code",
   "execution_count": 14,
   "metadata": {},
   "outputs": [],
   "source": [
    "# Load experiment\n",
    "e = Experiment.from_json((SOURCE/\"experiment.json\").as_posix())"
   ]
  },
  {
   "cell_type": "code",
   "execution_count": 17,
   "metadata": {},
   "outputs": [
    {
     "ename": "TypeError",
     "evalue": "unsupported operand type(s) for -: 'str' and 'int'",
     "output_type": "error",
     "traceback": [
      "\u001b[0;31m---------------------------------------------------------------------------\u001b[0m",
      "\u001b[0;31mTypeError\u001b[0m                                 Traceback (most recent call last)",
      "Cell \u001b[0;32mIn [17], line 2\u001b[0m\n\u001b[1;32m      1\u001b[0m \u001b[39m# Load ImageStacks from experiment\u001b[39;00m\n\u001b[0;32m----> 2\u001b[0m imgs \u001b[39m=\u001b[39m e\u001b[39m.\u001b[39mfov()\u001b[39m.\u001b[39mget_image(\u001b[39m'\u001b[39m\u001b[39mprimary\u001b[39m\u001b[39m'\u001b[39m)\n",
      "File \u001b[0;32m~/starfish/starfish/core/experiment/experiment.py:147\u001b[0m, in \u001b[0;36mFieldOfView.get_image\u001b[0;34m(self, item, aligned_group, rounds, chs, zplanes, x, y)\u001b[0m\n\u001b[1;32m    142\u001b[0m     \u001b[39mraise\u001b[39;00m \u001b[39mRuntimeError\u001b[39;00m(\u001b[39m\"\u001b[39m\u001b[39mThe parameter \u001b[39m\u001b[39m'\u001b[39m\u001b[39maligned_group` is no longer accepted. Please use\u001b[39m\u001b[39m\"\u001b[39m\n\u001b[1;32m    143\u001b[0m                        \u001b[39m\"\u001b[39m\u001b[39mFieldOfView.get_images() and  provide sets of selected axes \u001b[39m\u001b[39m\"\u001b[39m\n\u001b[1;32m    144\u001b[0m                        \u001b[39m\"\u001b[39m\u001b[39minstead\u001b[39m\u001b[39m\"\u001b[39m)\n\u001b[1;32m    145\u001b[0m stack_iterator \u001b[39m=\u001b[39m \u001b[39mself\u001b[39m\u001b[39m.\u001b[39mget_images(item\u001b[39m=\u001b[39mitem, rounds\u001b[39m=\u001b[39mrounds,\n\u001b[1;32m    146\u001b[0m                                  chs\u001b[39m=\u001b[39mchs, zplanes\u001b[39m=\u001b[39mzplanes, x\u001b[39m=\u001b[39mx, y\u001b[39m=\u001b[39my)\n\u001b[0;32m--> 147\u001b[0m \u001b[39mreturn\u001b[39;00m \u001b[39mnext\u001b[39;49m(stack_iterator)\n",
      "File \u001b[0;32m~/starfish/starfish/core/experiment/experiment.py:209\u001b[0m, in \u001b[0;36mAlignedImageStackIterator.__next__\u001b[0;34m(self)\u001b[0m\n\u001b[1;32m    207\u001b[0m \u001b[39mdef\u001b[39;00m \u001b[39m__next__\u001b[39m(\u001b[39mself\u001b[39m) \u001b[39m-\u001b[39m\u001b[39m>\u001b[39m ImageStack:\n\u001b[1;32m    208\u001b[0m     aligned_group \u001b[39m=\u001b[39m \u001b[39mnext\u001b[39m(\u001b[39mself\u001b[39m\u001b[39m.\u001b[39maligned_groups)\n\u001b[0;32m--> 209\u001b[0m     stack \u001b[39m=\u001b[39m ImageStack\u001b[39m.\u001b[39;49mfrom_tileset(\u001b[39mself\u001b[39;49m\u001b[39m.\u001b[39;49mtileset, aligned_group)\n\u001b[1;32m    210\u001b[0m     \u001b[39mreturn\u001b[39;00m stack\n",
      "File \u001b[0;32m~/starfish/starfish/core/imagestack/imagestack.py:273\u001b[0m, in \u001b[0;36mImageStack.from_tileset\u001b[0;34m(cls, tileset, crop_parameters)\u001b[0m\n\u001b[1;32m    271\u001b[0m \u001b[39mif\u001b[39;00m crop_parameters \u001b[39mis\u001b[39;00m \u001b[39mnot\u001b[39;00m \u001b[39mNone\u001b[39;00m:\n\u001b[1;32m    272\u001b[0m     tile_data \u001b[39m=\u001b[39m CroppedTileCollectionData(tile_data, crop_parameters)\n\u001b[0;32m--> 273\u001b[0m \u001b[39mreturn\u001b[39;00m ImageStack\u001b[39m.\u001b[39;49mfrom_tile_collection_data(tile_data)\n",
      "File \u001b[0;32m~/starfish/starfish/core/imagestack/imagestack.py:132\u001b[0m, in \u001b[0;36mImageStack.from_tile_collection_data\u001b[0;34m(cls, tile_data)\u001b[0m\n\u001b[1;32m    128\u001b[0m     data_dimensions\u001b[39m.\u001b[39mappend(dim_for_axis\u001b[39m.\u001b[39mvalue)\n\u001b[1;32m    129\u001b[0m     data_tick_marks[dim_for_axis\u001b[39m.\u001b[39mvalue] \u001b[39m=\u001b[39m \u001b[39mlist\u001b[39m(\n\u001b[1;32m    130\u001b[0m         \u001b[39msorted\u001b[39m(\u001b[39mset\u001b[39m(tilekey[dim_for_axis] \u001b[39mfor\u001b[39;00m tilekey \u001b[39min\u001b[39;00m tile_data\u001b[39m.\u001b[39mkeys())))\n\u001b[0;32m--> 132\u001b[0m data_shape\u001b[39m.\u001b[39mextend([tile_data\u001b[39m.\u001b[39;49mtile_shape[Axes\u001b[39m.\u001b[39mY], tile_data\u001b[39m.\u001b[39mtile_shape[Axes\u001b[39m.\u001b[39mX]])\n\u001b[1;32m    133\u001b[0m data_dimensions\u001b[39m.\u001b[39mextend([Axes\u001b[39m.\u001b[39mY\u001b[39m.\u001b[39mvalue, Axes\u001b[39m.\u001b[39mX\u001b[39m.\u001b[39mvalue])\n\u001b[1;32m    135\u001b[0m \u001b[39m# now that we know the tile data type (kind and size), we can allocate the data array.\u001b[39;00m\n",
      "File \u001b[0;32m~/starfish/starfish/core/imagestack/parser/crop.py:290\u001b[0m, in \u001b[0;36mCroppedTileCollectionData.tile_shape\u001b[0;34m(self)\u001b[0m\n\u001b[1;32m    288\u001b[0m \u001b[39m@property\u001b[39m\n\u001b[1;32m    289\u001b[0m \u001b[39mdef\u001b[39;00m \u001b[39mtile_shape\u001b[39m(\u001b[39mself\u001b[39m) \u001b[39m-\u001b[39m\u001b[39m>\u001b[39m Mapping[Axes, \u001b[39mint\u001b[39m]:\n\u001b[0;32m--> 290\u001b[0m     \u001b[39mreturn\u001b[39;00m \u001b[39mself\u001b[39;49m\u001b[39m.\u001b[39;49mcrop_parameters\u001b[39m.\u001b[39;49mcrop_shape(\u001b[39mself\u001b[39;49m\u001b[39m.\u001b[39;49mbacking_tile_collection_data\u001b[39m.\u001b[39;49mtile_shape)\n",
      "File \u001b[0;32m~/starfish/starfish/core/imagestack/parser/crop.py:209\u001b[0m, in \u001b[0;36mCropParameters.crop_shape\u001b[0;34m(self, shape)\u001b[0m\n\u001b[1;32m    207\u001b[0m output_x_shape \u001b[39m=\u001b[39m CropParameters\u001b[39m.\u001b[39m_crop_axis(shape[Axes\u001b[39m.\u001b[39mX], \u001b[39mself\u001b[39m\u001b[39m.\u001b[39m_x_slice)\n\u001b[1;32m    208\u001b[0m output_y_shape \u001b[39m=\u001b[39m CropParameters\u001b[39m.\u001b[39m_crop_axis(shape[Axes\u001b[39m.\u001b[39mY], \u001b[39mself\u001b[39m\u001b[39m.\u001b[39m_y_slice)\n\u001b[0;32m--> 209\u001b[0m width \u001b[39m=\u001b[39m output_x_shape[\u001b[39m1\u001b[39;49m] \u001b[39m-\u001b[39;49m output_x_shape[\u001b[39m0\u001b[39;49m]\n\u001b[1;32m    210\u001b[0m height \u001b[39m=\u001b[39m output_y_shape[\u001b[39m1\u001b[39m] \u001b[39m-\u001b[39m output_y_shape[\u001b[39m0\u001b[39m]\n\u001b[1;32m    212\u001b[0m \u001b[39mreturn\u001b[39;00m {Axes\u001b[39m.\u001b[39mY: height, Axes\u001b[39m.\u001b[39mX: width}\n",
      "\u001b[0;31mTypeError\u001b[0m: unsupported operand type(s) for -: 'str' and 'int'"
     ]
    }
   ],
   "source": [
    "\n",
    "# Load ImageStacks from experiment\n",
    "imgs = e.fov().get_image('primary')  # primary images \n",
    "# dots = e.fov().get_image('dots')  # auxiliary image with all rolonies stained\n",
    "# nuclei = e.fov().get_image('nuclei')  # auxiliary image with dapi stain"
   ]
  },
  {
   "cell_type": "code",
   "execution_count": 18,
   "metadata": {},
   "outputs": [
    {
     "ename": "TypeError",
     "evalue": "'<' not supported between instances of 'str' and 'float'",
     "output_type": "error",
     "traceback": [
      "\u001b[0;31m---------------------------------------------------------------------------\u001b[0m",
      "\u001b[0;31mTypeError\u001b[0m                                 Traceback (most recent call last)",
      "File \u001b[0;32m~/miniconda3/envs/starfish-3.8/lib/python3.8/site-packages/IPython/core/formatters.py:707\u001b[0m, in \u001b[0;36mPlainTextFormatter.__call__\u001b[0;34m(self, obj)\u001b[0m\n\u001b[1;32m    700\u001b[0m stream \u001b[39m=\u001b[39m StringIO()\n\u001b[1;32m    701\u001b[0m printer \u001b[39m=\u001b[39m pretty\u001b[39m.\u001b[39mRepresentationPrinter(stream, \u001b[39mself\u001b[39m\u001b[39m.\u001b[39mverbose,\n\u001b[1;32m    702\u001b[0m     \u001b[39mself\u001b[39m\u001b[39m.\u001b[39mmax_width, \u001b[39mself\u001b[39m\u001b[39m.\u001b[39mnewline,\n\u001b[1;32m    703\u001b[0m     max_seq_length\u001b[39m=\u001b[39m\u001b[39mself\u001b[39m\u001b[39m.\u001b[39mmax_seq_length,\n\u001b[1;32m    704\u001b[0m     singleton_pprinters\u001b[39m=\u001b[39m\u001b[39mself\u001b[39m\u001b[39m.\u001b[39msingleton_printers,\n\u001b[1;32m    705\u001b[0m     type_pprinters\u001b[39m=\u001b[39m\u001b[39mself\u001b[39m\u001b[39m.\u001b[39mtype_printers,\n\u001b[1;32m    706\u001b[0m     deferred_pprinters\u001b[39m=\u001b[39m\u001b[39mself\u001b[39m\u001b[39m.\u001b[39mdeferred_printers)\n\u001b[0;32m--> 707\u001b[0m printer\u001b[39m.\u001b[39;49mpretty(obj)\n\u001b[1;32m    708\u001b[0m printer\u001b[39m.\u001b[39mflush()\n\u001b[1;32m    709\u001b[0m \u001b[39mreturn\u001b[39;00m stream\u001b[39m.\u001b[39mgetvalue()\n",
      "File \u001b[0;32m~/miniconda3/envs/starfish-3.8/lib/python3.8/site-packages/IPython/lib/pretty.py:410\u001b[0m, in \u001b[0;36mRepresentationPrinter.pretty\u001b[0;34m(self, obj)\u001b[0m\n\u001b[1;32m    407\u001b[0m                         \u001b[39mreturn\u001b[39;00m meth(obj, \u001b[39mself\u001b[39m, cycle)\n\u001b[1;32m    408\u001b[0m                 \u001b[39mif\u001b[39;00m \u001b[39mcls\u001b[39m \u001b[39mis\u001b[39;00m \u001b[39mnot\u001b[39;00m \u001b[39mobject\u001b[39m \\\n\u001b[1;32m    409\u001b[0m                         \u001b[39mand\u001b[39;00m callable(\u001b[39mcls\u001b[39m\u001b[39m.\u001b[39m\u001b[39m__dict__\u001b[39m\u001b[39m.\u001b[39mget(\u001b[39m'\u001b[39m\u001b[39m__repr__\u001b[39m\u001b[39m'\u001b[39m)):\n\u001b[0;32m--> 410\u001b[0m                     \u001b[39mreturn\u001b[39;00m _repr_pprint(obj, \u001b[39mself\u001b[39;49m, cycle)\n\u001b[1;32m    412\u001b[0m     \u001b[39mreturn\u001b[39;00m _default_pprint(obj, \u001b[39mself\u001b[39m, cycle)\n\u001b[1;32m    413\u001b[0m \u001b[39mfinally\u001b[39;00m:\n",
      "File \u001b[0;32m~/miniconda3/envs/starfish-3.8/lib/python3.8/site-packages/IPython/lib/pretty.py:778\u001b[0m, in \u001b[0;36m_repr_pprint\u001b[0;34m(obj, p, cycle)\u001b[0m\n\u001b[1;32m    776\u001b[0m \u001b[39m\"\"\"A pprint that just redirects to the normal repr function.\"\"\"\u001b[39;00m\n\u001b[1;32m    777\u001b[0m \u001b[39m# Find newlines and replace them with p.break_()\u001b[39;00m\n\u001b[0;32m--> 778\u001b[0m output \u001b[39m=\u001b[39m \u001b[39mrepr\u001b[39;49m(obj)\n\u001b[1;32m    779\u001b[0m lines \u001b[39m=\u001b[39m output\u001b[39m.\u001b[39msplitlines()\n\u001b[1;32m    780\u001b[0m \u001b[39mwith\u001b[39;00m p\u001b[39m.\u001b[39mgroup():\n",
      "File \u001b[0;32m~/starfish/starfish/core/experiment/experiment.py:89\u001b[0m, in \u001b[0;36mFieldOfView.__repr__\u001b[0;34m(self)\u001b[0m\n\u001b[1;32m     82\u001b[0m \u001b[39mdef\u001b[39;00m \u001b[39m__repr__\u001b[39m(\u001b[39mself\u001b[39m):\n\u001b[1;32m     83\u001b[0m     images \u001b[39m=\u001b[39m \u001b[39m'\u001b[39m\u001b[39m\\n\u001b[39;00m\u001b[39m    \u001b[39m\u001b[39m'\u001b[39m\u001b[39m.\u001b[39mjoin(\n\u001b[1;32m     84\u001b[0m         \u001b[39mf\u001b[39m\u001b[39m'\u001b[39m\u001b[39m{\u001b[39;00mk\u001b[39m}\u001b[39;00m\u001b[39m: \u001b[39m\u001b[39m{\u001b[39;00mv\u001b[39m}\u001b[39;00m\u001b[39m'\u001b[39m\n\u001b[1;32m     85\u001b[0m         \u001b[39mfor\u001b[39;00m k, v \u001b[39min\u001b[39;00m \u001b[39mself\u001b[39m\u001b[39m.\u001b[39m_images\u001b[39m.\u001b[39mitems()\n\u001b[1;32m     86\u001b[0m         \u001b[39mif\u001b[39;00m k \u001b[39m!=\u001b[39m FieldOfView\u001b[39m.\u001b[39mPRIMARY_IMAGES\n\u001b[1;32m     87\u001b[0m     )\n\u001b[1;32m     88\u001b[0m     \u001b[39mreturn\u001b[39;00m (\n\u001b[0;32m---> 89\u001b[0m         \u001b[39mf\u001b[39m\u001b[39m\"\u001b[39m\u001b[39m<starfish.FieldOfView>\u001b[39m\u001b[39m\\n\u001b[39;00m\u001b[39m\"\u001b[39m\n\u001b[1;32m     90\u001b[0m         \u001b[39mf\u001b[39m\u001b[39m\"\u001b[39m\u001b[39m  Primary Image: \u001b[39m\u001b[39m{\u001b[39;00m\u001b[39mself\u001b[39m\u001b[39m.\u001b[39m_images[FieldOfView\u001b[39m.\u001b[39mPRIMARY_IMAGES]\u001b[39m}\u001b[39;00m\u001b[39m\\n\u001b[39;00m\u001b[39m\"\u001b[39m\n\u001b[1;32m     91\u001b[0m         \u001b[39mf\u001b[39m\u001b[39m\"\u001b[39m\u001b[39m  Auxiliary Images:\u001b[39m\u001b[39m\\n\u001b[39;00m\u001b[39m\"\u001b[39m\n\u001b[1;32m     92\u001b[0m         \u001b[39mf\u001b[39m\u001b[39m\"\u001b[39m\u001b[39m    \u001b[39m\u001b[39m{\u001b[39;00mimages\u001b[39m}\u001b[39;00m\u001b[39m\"\u001b[39m\n\u001b[1;32m     93\u001b[0m     )\n",
      "File \u001b[0;32m~/miniconda3/envs/starfish-3.8/lib/python3.8/site-packages/slicedimage/_tileset.py:48\u001b[0m, in \u001b[0;36mTileSet.__repr__\u001b[0;34m(self)\u001b[0m\n\u001b[1;32m     45\u001b[0m \u001b[39mif\u001b[39;00m shape \u001b[39mis\u001b[39;00m \u001b[39mNone\u001b[39;00m:\n\u001b[1;32m     46\u001b[0m     shape \u001b[39m=\u001b[39m tile\u001b[39m.\u001b[39mtile_shape\n\u001b[0;32m---> 48\u001b[0m xmin \u001b[39m=\u001b[39m \u001b[39mmin\u001b[39;49m(xmin, shape[DimensionNames\u001b[39m.\u001b[39;49mX])\n\u001b[1;32m     49\u001b[0m xmax \u001b[39m=\u001b[39m \u001b[39mmax\u001b[39m(xmax, shape[DimensionNames\u001b[39m.\u001b[39mX])\n\u001b[1;32m     50\u001b[0m ymin \u001b[39m=\u001b[39m \u001b[39mmin\u001b[39m(ymin, shape[DimensionNames\u001b[39m.\u001b[39mY])\n",
      "\u001b[0;31mTypeError\u001b[0m: '<' not supported between instances of 'str' and 'float'"
     ]
    }
   ],
   "source": [
    "e.fov()"
   ]
  },
  {
   "cell_type": "code",
   "execution_count": null,
   "metadata": {},
   "outputs": [],
   "source": []
  }
 ],
 "metadata": {
  "kernelspec": {
   "display_name": "Python 3.8.13 ('starfish-3.8')",
   "language": "python",
   "name": "python3"
  },
  "language_info": {
   "codemirror_mode": {
    "name": "ipython",
    "version": 3
   },
   "file_extension": ".py",
   "mimetype": "text/x-python",
   "name": "python",
   "nbconvert_exporter": "python",
   "pygments_lexer": "ipython3",
   "version": "3.8.13"
  },
  "orig_nbformat": 4,
  "vscode": {
   "interpreter": {
    "hash": "63f78c5323005a62791ff6a10adf3405208ecfdfbdb4838b7849a6959e142b31"
   }
  }
 },
 "nbformat": 4,
 "nbformat_minor": 2
}
